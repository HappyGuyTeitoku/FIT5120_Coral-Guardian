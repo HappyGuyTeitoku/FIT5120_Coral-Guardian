{
 "cells": [
  {
   "cell_type": "code",
   "execution_count": 2,
   "id": "42367e2b",
   "metadata": {},
   "outputs": [
    {
     "name": "stdout",
     "output_type": "stream",
     "text": [
      "Collecting PyPDF2\n",
      "  Using cached pypdf2-3.0.1-py3-none-any.whl (232 kB)\n",
      "Installing collected packages: PyPDF2\n",
      "Successfully installed PyPDF2-3.0.1\n"
     ]
    }
   ],
   "source": [
    "!pip install PyPDF2"
   ]
  },
  {
   "cell_type": "code",
   "execution_count": 3,
   "id": "69334802",
   "metadata": {},
   "outputs": [
    {
     "name": "stdout",
     "output_type": "stream",
     "text": [
      "Dispose of toxic household items (Detox Your\n",
      "Home)\n",
      "Last updated: 29 July 2024\n",
      "Highly t oxic items, such as chemicals, should ne ver be put in y our rubbish bins, pour ed down\n",
      "the dr ain, or left out on the natur e strip during har d rubbish collections.\n",
      "You can dr op off unwanted household chemicals at our free Detox Your Home e vents, which\n",
      "are licensed t o accept t oxic chemicals and staff ed b y trained specialist chemists.\n",
      "Around 40 pop-up e vents ar e hosted ar ound Vict oria each y ear in par tnership with local\n",
      "councils.\n",
      "Disposing of t oxic items corr ectly will:\n",
      "reduce the risk t o the envir onment and human health •\n",
      "help k eep our water ways clean •\n",
      "prevent chemicals fr om ending up in land\u0000llNote: Household chemicals cannot be accepted at waste tr ansf er stations due t o the risk of\n",
      "\u0000re or explosion when these items ar e combined or st ored in lar ge volumes.\n",
      "Items accepted and not accepted\n",
      "Check the full list of items that ar e accepted and not accepted .\n",
      "Detox Your Home e vents ar e for households. Businesses should use a\n",
      "commer cial waste disposal company .\n",
      "Paint drop-off\n",
      "Take your unwanted household paint t o permanent dr op-off sites oper ated b y Paintback\n",
      "across Vict oria. To \u0000nd y our near est location, visit the P aintback website .\n",
      "Upcoming events and registration\n",
      "To learn about what t o expect at our e vents, watch '\n",
      "How t o use Vict oria's Det ox Your Home ser vice t o dispose of t oxic household chemicals '.\n",
      "Detox Your Home e vent dates and locations ar e released r egularly thr oughout the y ear and\n",
      "listed on this page.\n",
      "To hear when e vent locations ar e announced, sign up t o our quar terly newsletter  or revisit this\n",
      "page.\n",
      "Detox Your Home - Hoppers Crossing\n",
      "Satur day 7 September 2024\n",
      "10:00 am t o 1:00 pm\n",
      "Wyndham City Council Depot\n",
      "241-253 Old Geelong Road, Hoppers\n",
      "Crossing, VIC 3029•reuse pr ecious r esour ces. •Register now\n",
      "<https://www.eventbrite.com.au/e/detox-your-home-\n",
      "hoppers-crossing-registration-943219122787>\n",
      "Detox Your Home - Warragul\n",
      "Satur day 21 September 2024\n",
      "9:00 am t o 12:00 pm\n",
      "Baw Baw Council Depot/Normanb y St\n",
      "188 Normanb y Str eet, W arragul, VIC 3820\n",
      "Register now\n",
      "<https://www.eventbrite.com.au/e/detox-your-home-\n",
      "warragul-registration-954429352887>\n",
      "Detox Your Home - Torquay\n",
      "Satur day 19 Oct ober 2024\n",
      "9:00 am t o 12:00 pm\n",
      "Torquay Works Depot\n",
      "130 Messmate Road, Torquay, VIC 3228\n",
      "Register now\n",
      "<https://www.eventbrite.com.au/e/detox-your-home-\n",
      "torquay-registration-943890510927>\n",
      "Detox Your Home - Dandenong\n",
      "Satur day 26 Oct ober 2024\n",
      "9:00 am t o 1:00 pm\n",
      "Gloria P yke Netball Complex\n",
      "Bennet Str eet, Dandenong, VIC 3175\n",
      "Register now\n",
      "<https://www.eventbrite.com.au/e/detox-your-home-\n",
      "dandenong-registration-943979697687>\n",
      "Detox Your Home - BendigoWednesda y 30 Oct ober 2024\n",
      "9:00 am t o 1:00 pm\n",
      "Bendigo Liv estock Ex change (Sale yards)\n",
      "Lot 2 W allenjoe Road, Huntly , VIC 3551\n",
      "Register now\n",
      "<https://www.eventbrite.com.au/e/detox-your-home-\n",
      "bendigo-registration-944622610657>\n",
      "Detox Your Home - Camberwell\n",
      "Satur day 16 No vember 2024\n",
      "9:00 am t o 2:00 pm\n",
      "Boroondar a Waste and Recy cling Centr e\n",
      "648 Riv ersdale Road, Camber well, VIC 3124\n",
      "Register now\n",
      "<https://www.eventbrite.com.au/e/detox-your-home-\n",
      "camberwell-registration-944647505117>\n",
      "Detox Your Home - Reservoir\n",
      "Satur day 23 No vember 2024\n",
      "9:00 am t o 1:00 pm\n",
      "Darebin Council W orks Depot\n",
      "Carawa Driv e, Reser voir, VIC 3073\n",
      "Register now\n",
      "<https://www.eventbrite.com.au/e/detox-your-home-\n",
      "reservoir-registration-979390602657>\n",
      "Detox Your Home - Bairnsdale\n",
      "Satur day 30 No vember 2024\n",
      "9:00 am t o 1:00 pmSale yard Road\n",
      "Sale yard Road, Bairnsdale, VIC 3875\n",
      "Register now\n",
      "<https://www.eventbrite.com.au/e/detox-your-home-\n",
      "bairnsdale-registration-944639350727>\n",
      "Prepare for the event\n"
     ]
    }
   ],
   "source": [
    "import PyPDF2\n",
    "\n",
    "# Open the PDF file in read-binary mode\n",
    "with open('datasets/Dispose of household chemicals (Detox Your Home) _ Sustainability Victoria.pdf', 'rb') as file:\n",
    "    reader = PyPDF2.PdfReader(file)\n",
    "    text = \"\"\n",
    "    \n",
    "    # Loop through all the pages and extract text\n",
    "    for page in range(len(reader.pages)):\n",
    "        text += reader.pages[page].extract_text()\n",
    "\n",
    "print(text)"
   ]
  },
  {
   "cell_type": "code",
   "execution_count": 4,
   "id": "fe45b7cf",
   "metadata": {},
   "outputs": [
    {
     "data": {
      "text/plain": [
       "\"Dispose of toxic household items (Detox Your\\nHome)\\nLast updated: 29 July 2024\\nHighly t oxic items, such as chemicals, should ne ver be put in y our rubbish bins, pour ed down\\nthe dr ain, or left out on the natur e strip during har d rubbish collections.\\nYou can dr op off unwanted household chemicals at our free Detox Your Home e vents, which\\nare licensed t o accept t oxic chemicals and staff ed b y trained specialist chemists.\\nAround 40 pop-up e vents ar e hosted ar ound Vict oria each y ear in par tnership with local\\ncouncils.\\nDisposing of t oxic items corr ectly will:\\nreduce the risk t o the envir onment and human health •\\nhelp k eep our water ways clean •\\nprevent chemicals fr om ending up in land\\x00llNote: Household chemicals cannot be accepted at waste tr ansf er stations due t o the risk of\\n\\x00re or explosion when these items ar e combined or st ored in lar ge volumes.\\nItems accepted and not accepted\\nCheck the full list of items that ar e accepted and not accepted .\\nDetox Your Home e vents ar e for households. Businesses should use a\\ncommer cial waste disposal company .\\nPaint drop-off\\nTake your unwanted household paint t o permanent dr op-off sites oper ated b y Paintback\\nacross Vict oria. To \\x00nd y our near est location, visit the P aintback website .\\nUpcoming events and registration\\nTo learn about what t o expect at our e vents, watch '\\nHow t o use Vict oria's Det ox Your Home ser vice t o dispose of t oxic household chemicals '.\\nDetox Your Home e vent dates and locations ar e released r egularly thr oughout the y ear and\\nlisted on this page.\\nTo hear when e vent locations ar e announced, sign up t o our quar terly newsletter  or revisit this\\npage.\\nDetox Your Home - Hoppers Crossing\\nSatur day 7 September 2024\\n10:00 am t o 1:00 pm\\nWyndham City Council Depot\\n241-253 Old Geelong Road, Hoppers\\nCrossing, VIC 3029•reuse pr ecious r esour ces. •Register now\\n<https://www.eventbrite.com.au/e/detox-your-home-\\nhoppers-crossing-registration-943219122787>\\nDetox Your Home - Warragul\\nSatur day 21 September 2024\\n9:00 am t o 12:00 pm\\nBaw Baw Council Depot/Normanb y St\\n188 Normanb y Str eet, W arragul, VIC 3820\\nRegister now\\n<https://www.eventbrite.com.au/e/detox-your-home-\\nwarragul-registration-954429352887>\\nDetox Your Home - Torquay\\nSatur day 19 Oct ober 2024\\n9:00 am t o 12:00 pm\\nTorquay Works Depot\\n130 Messmate Road, Torquay, VIC 3228\\nRegister now\\n<https://www.eventbrite.com.au/e/detox-your-home-\\ntorquay-registration-943890510927>\\nDetox Your Home - Dandenong\\nSatur day 26 Oct ober 2024\\n9:00 am t o 1:00 pm\\nGloria P yke Netball Complex\\nBennet Str eet, Dandenong, VIC 3175\\nRegister now\\n<https://www.eventbrite.com.au/e/detox-your-home-\\ndandenong-registration-943979697687>\\nDetox Your Home - BendigoWednesda y 30 Oct ober 2024\\n9:00 am t o 1:00 pm\\nBendigo Liv estock Ex change (Sale yards)\\nLot 2 W allenjoe Road, Huntly , VIC 3551\\nRegister now\\n<https://www.eventbrite.com.au/e/detox-your-home-\\nbendigo-registration-944622610657>\\nDetox Your Home - Camberwell\\nSatur day 16 No vember 2024\\n9:00 am t o 2:00 pm\\nBoroondar a Waste and Recy cling Centr e\\n648 Riv ersdale Road, Camber well, VIC 3124\\nRegister now\\n<https://www.eventbrite.com.au/e/detox-your-home-\\ncamberwell-registration-944647505117>\\nDetox Your Home - Reservoir\\nSatur day 23 No vember 2024\\n9:00 am t o 1:00 pm\\nDarebin Council W orks Depot\\nCarawa Driv e, Reser voir, VIC 3073\\nRegister now\\n<https://www.eventbrite.com.au/e/detox-your-home-\\nreservoir-registration-979390602657>\\nDetox Your Home - Bairnsdale\\nSatur day 30 No vember 2024\\n9:00 am t o 1:00 pmSale yard Road\\nSale yard Road, Bairnsdale, VIC 3875\\nRegister now\\n<https://www.eventbrite.com.au/e/detox-your-home-\\nbairnsdale-registration-944639350727>\\nPrepare for the event\""
      ]
     },
     "execution_count": 4,
     "metadata": {},
     "output_type": "execute_result"
    }
   ],
   "source": [
    "# check text\n",
    "text"
   ]
  },
  {
   "cell_type": "code",
   "execution_count": 13,
   "id": "e79193d5",
   "metadata": {},
   "outputs": [
    {
     "name": "stdout",
     "output_type": "stream",
     "text": [
      "{'location': 'Hoppers Crossing\\nSatur day 7 September 2024\\n10'}\n",
      "{'location': 'Warragul\\nSatur day 21 September 2024\\n9'}\n",
      "{'location': 'Torquay\\nSatur day 19 Oct ober 2024\\n9'}\n",
      "{'location': 'Dandenong\\nSatur day 26 Oct ober 2024\\n9'}\n",
      "{'location': 'BendigoWednesda y 30 Oct ober 2024\\n9'}\n",
      "{'location': 'Camberwell\\nSatur day 16 No vember 2024\\n9'}\n",
      "{'location': 'Reservoir\\nSatur day 23 No vember 2024\\n9'}\n",
      "{'location': 'Bairnsdale\\nSatur day 30 No vember 2024\\n9'}\n"
     ]
    }
   ],
   "source": [
    "import re\n",
    "import pandas as pd\n",
    "# Extract location and date \n",
    "location_pattern = re.compile(r\"Detox Your Home - (?P<location>[\\w\\s]+)\")\n",
    "location_matches = location_pattern.finditer(text)\n",
    "for match in location_matches:\n",
    "    print(match.groupdict())"
   ]
  },
  {
   "cell_type": "code",
   "execution_count": 6,
   "id": "8225e31a",
   "metadata": {},
   "outputs": [
    {
     "name": "stdout",
     "output_type": "stream",
     "text": [
      "{'time_begin': '10:00 am', 'time_end': '1:00 pm'}\n",
      "{'time_begin': '9:00 am', 'time_end': '12:00 pm'}\n",
      "{'time_begin': '9:00 am', 'time_end': '12:00 pm'}\n",
      "{'time_begin': '9:00 am', 'time_end': '1:00 pm'}\n",
      "{'time_begin': '9:00 am', 'time_end': '1:00 pm'}\n",
      "{'time_begin': '9:00 am', 'time_end': '2:00 pm'}\n",
      "{'time_begin': '9:00 am', 'time_end': '1:00 pm'}\n",
      "{'time_begin': '9:00 am', 'time_end': '1:00 pm'}\n"
     ]
    }
   ],
   "source": [
    "# extract time\n",
    "time_pattern = re.compile(r\"(?P<time_begin>\\d{1,2}:\\d{2} \\w{2}) t o (?P<time_end>\\d{1,2}:\\d{2} \\w{2})\")\n",
    "time_matches = time_pattern.finditer(text)\n",
    "for match in time_matches:\n",
    "    print(match.groupdict())"
   ]
  },
  {
   "cell_type": "code",
   "execution_count": 8,
   "id": "96125119",
   "metadata": {},
   "outputs": [
    {
     "name": "stdout",
     "output_type": "stream",
     "text": [
      "{'address': '253 Old Geelong Road'}\n",
      "{'address': '188 Normanb y Str eet'}\n",
      "{'address': '00 pm\\nTorquay Works Depot\\n130 Messmate Road'}\n",
      "{'address': '00 pm\\nGloria P yke Netball Complex\\nBennet Str eet'}\n",
      "{'address': '2 W allenjoe Road'}\n",
      "{'address': '00 pm\\nBoroondar a Waste and Recy cling Centr e\\n648 Riv ersdale Road'}\n",
      "{'address': '00 pm\\nDarebin Council W orks Depot\\nCarawa Driv e'}\n",
      "{'address': '00 pmSale yard Road\\nSale yard Road'}\n"
     ]
    }
   ],
   "source": [
    "address_pattern = re.compile(r\"(?P<address>\\d{1,5}[\\w\\s]+),\\s[\\w\\s]+,\\s[A-Z]{2,3}\\s\\d{4}\")\n",
    "address_matches = address_pattern.finditer(text)\n",
    "for match in address_matches:\n",
    "    print(match.groupdict())"
   ]
  },
  {
   "cell_type": "code",
   "execution_count": 9,
   "id": "10c93529",
   "metadata": {},
   "outputs": [
    {
     "name": "stdout",
     "output_type": "stream",
     "text": [
      "{'suburb': ' Hoppers\\nCrossing'}\n",
      "{'suburb': ' W arragul'}\n",
      "{'suburb': ' Torquay'}\n",
      "{'suburb': ' Dandenong'}\n",
      "{'suburb': ' Huntly '}\n",
      "{'suburb': ' Camber well'}\n",
      "{'suburb': ' Reser voir'}\n",
      "{'suburb': ' Bairnsdale'}\n"
     ]
    }
   ],
   "source": [
    "suburb_pattern = re.compile(r\"(?P<suburb>[^\\d,]+),\\s[A-Z]{2,3}\\s\\d{4}\")\n",
    "suburb_matches = suburb_pattern.finditer(text)\n",
    "for match in suburb_matches:\n",
    "    print(match.groupdict())"
   ]
  },
  {
   "cell_type": "code",
   "execution_count": 10,
   "id": "3aca6331",
   "metadata": {},
   "outputs": [
    {
     "name": "stdout",
     "output_type": "stream",
     "text": [
      "{'state': 'VIC', 'postal_code': '3029'}\n",
      "{'state': 'VIC', 'postal_code': '3820'}\n",
      "{'state': 'VIC', 'postal_code': '3228'}\n",
      "{'state': 'VIC', 'postal_code': '3175'}\n",
      "{'state': 'VIC', 'postal_code': '3551'}\n",
      "{'state': 'VIC', 'postal_code': '3124'}\n",
      "{'state': 'VIC', 'postal_code': '3073'}\n",
      "{'state': 'VIC', 'postal_code': '3875'}\n"
     ]
    }
   ],
   "source": [
    "# Updated pattern to capture postal code only after state abbreviation\n",
    "postal_code_pattern = re.compile(r\"(?P<state>[A-Z]{2,3})\\s(?P<postal_code>\\d{4})\")\n",
    "\n",
    "postal_code_matches = postal_code_pattern.finditer(text)\n",
    "for match in postal_code_matches:\n",
    "    print(match.groupdict())"
   ]
  }
 ],
 "metadata": {
  "kernelspec": {
   "display_name": "Python 3 (ipykernel)",
   "language": "python",
   "name": "python3"
  },
  "language_info": {
   "codemirror_mode": {
    "name": "ipython",
    "version": 3
   },
   "file_extension": ".py",
   "mimetype": "text/x-python",
   "name": "python",
   "nbconvert_exporter": "python",
   "pygments_lexer": "ipython3",
   "version": "3.11.5"
  }
 },
 "nbformat": 4,
 "nbformat_minor": 5
}
